{
 "cells": [
  {
   "cell_type": "markdown",
   "metadata": {},
   "source": [
    "## 在45米外射门进球的可能性有多大？\n",
    "by [@寒小阳](http://blog.csdn.net/han_xiaoyang)<br>\n",
    "2015-08"
   ]
  },
  {
   "cell_type": "markdown",
   "metadata": {},
   "source": [
    "数据采集，清洗，分析和可视化是数据科学必备的技能，也是每天都要做的工作，这里整理了一个综合案例，涵盖数据分析的方方面面，包括大家了解的数据相关python工具库。\n",
    "\n",
    "### 关于这里用到的数据集\n",
    "\n",
    "数据是从UEFA网站取到的，比如([一个例子](http://www.uefa.com/uefachampionsleague/season=2014/matches/round=2000479/match=2011793/index.html))\n",
    "\n",
    "### 关于用到的工具和库\n",
    "\n",
    "这个案例涉及到数据爬取，清洗，统计建模与可视化的方方面面。我们使用到大量的python工具库，比如:\n",
    "\n",
    "* beautifulsoup (for web scraping)\n",
    "* pandas (for data clean up and analysis)\n",
    "* statsmodels (for modelling)\n",
    "* matplotlib (for visualizations)\n",
    "\n",
    "内容整理成ipython notebook了，对它不熟悉的同学可以查看[the website](http://ipython.org/notebook.html)<br>\n",
    "想要看ipython notebook案例的同学可以戳[interesting Notebooks](https://github.com/ipython/ipython/wiki/A-gallery-of-interesting-IPython-Notebooks)."
   ]
  },
  {
   "cell_type": "markdown",
   "metadata": {},
   "source": [
    "## 了解你的数据\n",
    "\n",
    "pandas依旧是利器，数据载入进来，再看看长什么样"
   ]
  },
  {
   "cell_type": "code",
   "execution_count": 1,
   "metadata": {
    "collapsed": false
   },
   "outputs": [
    {
     "data": {
      "text/html": [
       "<div style=\"max-height:1000px;max-width:1500px;overflow:auto;\">\n",
       "<table border=\"1\" class=\"dataframe\">\n",
       "  <thead>\n",
       "    <tr style=\"text-align: right;\">\n",
       "      <th></th>\n",
       "      <th>dist</th>\n",
       "      <th>dx</th>\n",
       "      <th>dy</th>\n",
       "      <th>event_id</th>\n",
       "      <th>goal</th>\n",
       "      <th>play_id</th>\n",
       "      <th>player</th>\n",
       "      <th>shot</th>\n",
       "      <th>team</th>\n",
       "      <th>x</th>\n",
       "      <th>y</th>\n",
       "    </tr>\n",
       "  </thead>\n",
       "  <tbody>\n",
       "    <tr>\n",
       "      <th>0 </th>\n",
       "      <td> 28.989564</td>\n",
       "      <td> 28.245</td>\n",
       "      <td>  6.528</td>\n",
       "      <td> 4fc58cdd-544b-4c05-8b2f-1cdc3d5a8164</td>\n",
       "      <td> False</td>\n",
       "      <td> 699caaab-f4d6-411c-b7ef-737ec6d23196</td>\n",
       "      <td> James Rodríguez</td>\n",
       "      <td> True</td>\n",
       "      <td>         Porto</td>\n",
       "      <td> 76.755</td>\n",
       "      <td> 28.832</td>\n",
       "    </tr>\n",
       "    <tr>\n",
       "      <th>2 </th>\n",
       "      <td> 19.254175</td>\n",
       "      <td>-18.585</td>\n",
       "      <td>  5.032</td>\n",
       "      <td> 764b87c7-426b-45da-9921-9e0556b90922</td>\n",
       "      <td> False</td>\n",
       "      <td> 373c02f2-81ff-4b46-b2df-16629800c8fb</td>\n",
       "      <td>          Sammir</td>\n",
       "      <td> True</td>\n",
       "      <td> Dinamo Zagreb</td>\n",
       "      <td> 18.585</td>\n",
       "      <td> 27.404</td>\n",
       "    </tr>\n",
       "    <tr>\n",
       "      <th>8 </th>\n",
       "      <td> 25.772814</td>\n",
       "      <td>-20.790</td>\n",
       "      <td>-15.232</td>\n",
       "      <td> a276c188-492e-4ada-8168-5bee7e998cc7</td>\n",
       "      <td> False</td>\n",
       "      <td> e190760e-9912-4d36-99f7-a1ceb696b5da</td>\n",
       "      <td>        Duje Čop</td>\n",
       "      <td> True</td>\n",
       "      <td> Dinamo Zagreb</td>\n",
       "      <td> 20.790</td>\n",
       "      <td> 48.280</td>\n",
       "    </tr>\n",
       "    <tr>\n",
       "      <th>10</th>\n",
       "      <td> 35.180567</td>\n",
       "      <td> 33.810</td>\n",
       "      <td> -9.724</td>\n",
       "      <td> b5f9dd79-14ff-4671-ad3a-a198abfa24a8</td>\n",
       "      <td> False</td>\n",
       "      <td> 1204aee1-6925-48b1-92af-d70fa87b888f</td>\n",
       "      <td>          Maicon</td>\n",
       "      <td> True</td>\n",
       "      <td>         Porto</td>\n",
       "      <td> 71.190</td>\n",
       "      <td> 44.200</td>\n",
       "    </tr>\n",
       "    <tr>\n",
       "      <th>12</th>\n",
       "      <td> 13.755000</td>\n",
       "      <td> 13.755</td>\n",
       "      <td>  0.000</td>\n",
       "      <td> 3a0178d9-67c8-4018-b18e-cceb3fbbdf48</td>\n",
       "      <td> False</td>\n",
       "      <td> a968c9e5-6f17-48ab-9081-7210ce10b3ed</td>\n",
       "      <td>    Miguel Lopes</td>\n",
       "      <td> True</td>\n",
       "      <td>         Porto</td>\n",
       "      <td> 91.245</td>\n",
       "      <td> 38.012</td>\n",
       "    </tr>\n",
       "  </tbody>\n",
       "</table>\n",
       "</div>"
      ],
      "text/plain": [
       "         dist      dx      dy                              event_id   goal  \\\n",
       "0   28.989564  28.245   6.528  4fc58cdd-544b-4c05-8b2f-1cdc3d5a8164  False   \n",
       "2   19.254175 -18.585   5.032  764b87c7-426b-45da-9921-9e0556b90922  False   \n",
       "8   25.772814 -20.790 -15.232  a276c188-492e-4ada-8168-5bee7e998cc7  False   \n",
       "10  35.180567  33.810  -9.724  b5f9dd79-14ff-4671-ad3a-a198abfa24a8  False   \n",
       "12  13.755000  13.755   0.000  3a0178d9-67c8-4018-b18e-cceb3fbbdf48  False   \n",
       "\n",
       "                                 play_id           player  shot  \\\n",
       "0   699caaab-f4d6-411c-b7ef-737ec6d23196  James Rodríguez  True   \n",
       "2   373c02f2-81ff-4b46-b2df-16629800c8fb           Sammir  True   \n",
       "8   e190760e-9912-4d36-99f7-a1ceb696b5da         Duje Čop  True   \n",
       "10  1204aee1-6925-48b1-92af-d70fa87b888f           Maicon  True   \n",
       "12  a968c9e5-6f17-48ab-9081-7210ce10b3ed     Miguel Lopes  True   \n",
       "\n",
       "             team       x       y  \n",
       "0           Porto  76.755  28.832  \n",
       "2   Dinamo Zagreb  18.585  27.404  \n",
       "8   Dinamo Zagreb  20.790  48.280  \n",
       "10          Porto  71.190  44.200  \n",
       "12          Porto  91.245  38.012  "
      ]
     },
     "execution_count": 1,
     "metadata": {},
     "output_type": "execute_result"
    }
   ],
   "source": [
    "import pandas as pd\n",
    "import numpy as np\n",
    "from matplotlib import pyplot as plt\n",
    "%matplotlib inline\n",
    "\n",
    "dfShots = pd.read_csv('..\\datasets\\cl-shots-2012.csv', index_col=0, na_values='N/A')\n",
    "\n",
    "dfShots.head()"
   ]
  },
  {
   "cell_type": "code",
   "execution_count": 2,
   "metadata": {
    "collapsed": false
   },
   "outputs": [
    {
     "data": {
      "text/html": [
       "<div style=\"max-height:1000px;max-width:1500px;overflow:auto;\">\n",
       "<table border=\"1\" class=\"dataframe\">\n",
       "  <thead>\n",
       "    <tr style=\"text-align: right;\">\n",
       "      <th></th>\n",
       "      <th>dist</th>\n",
       "      <th>dx</th>\n",
       "      <th>dy</th>\n",
       "      <th>goal</th>\n",
       "      <th>shot</th>\n",
       "      <th>x</th>\n",
       "      <th>y</th>\n",
       "    </tr>\n",
       "  </thead>\n",
       "  <tbody>\n",
       "    <tr>\n",
       "      <th>count</th>\n",
       "      <td> 2273.000000</td>\n",
       "      <td> 2271.000000</td>\n",
       "      <td> 2271.000000</td>\n",
       "      <td>      2273</td>\n",
       "      <td> 2273</td>\n",
       "      <td> 2273.000000</td>\n",
       "      <td> 2273.000000</td>\n",
       "    </tr>\n",
       "    <tr>\n",
       "      <th>mean</th>\n",
       "      <td>   18.387649</td>\n",
       "      <td>    0.124696</td>\n",
       "      <td>    0.842978</td>\n",
       "      <td> 0.1451826</td>\n",
       "      <td>    1</td>\n",
       "      <td>   51.402604</td>\n",
       "      <td>   33.157404</td>\n",
       "    </tr>\n",
       "    <tr>\n",
       "      <th>std</th>\n",
       "      <td>    8.120749</td>\n",
       "      <td>   17.499210</td>\n",
       "      <td>    9.879692</td>\n",
       "      <td> 0.3523623</td>\n",
       "      <td>    0</td>\n",
       "      <td>   38.015387</td>\n",
       "      <td>    9.182643</td>\n",
       "    </tr>\n",
       "    <tr>\n",
       "      <th>min</th>\n",
       "      <td>    0.000000</td>\n",
       "      <td>  -47.145000</td>\n",
       "      <td>  -42.160000</td>\n",
       "      <td>     False</td>\n",
       "      <td> True</td>\n",
       "      <td>    0.000000</td>\n",
       "      <td>    2.856000</td>\n",
       "    </tr>\n",
       "    <tr>\n",
       "      <th>25%</th>\n",
       "      <td>   11.872038</td>\n",
       "      <td>  -13.387500</td>\n",
       "      <td>   -6.154000</td>\n",
       "      <td>     False</td>\n",
       "      <td> True</td>\n",
       "      <td>   13.020000</td>\n",
       "      <td>   26.384000</td>\n",
       "    </tr>\n",
       "    <tr>\n",
       "      <th>50%</th>\n",
       "      <td>   17.511139</td>\n",
       "      <td>   -2.205000</td>\n",
       "      <td>    0.680000</td>\n",
       "      <td>         0</td>\n",
       "      <td>    1</td>\n",
       "      <td>   33.075000</td>\n",
       "      <td>   33.320000</td>\n",
       "    </tr>\n",
       "    <tr>\n",
       "      <th>75%</th>\n",
       "      <td>   24.382473</td>\n",
       "      <td>   14.280000</td>\n",
       "      <td>    8.092000</td>\n",
       "      <td>     False</td>\n",
       "      <td> True</td>\n",
       "      <td>   90.300000</td>\n",
       "      <td>   40.324000</td>\n",
       "    </tr>\n",
       "    <tr>\n",
       "      <th>max</th>\n",
       "      <td>   54.922115</td>\n",
       "      <td>   54.915000</td>\n",
       "      <td>   34.204000</td>\n",
       "      <td>      True</td>\n",
       "      <td> True</td>\n",
       "      <td>  105.000000</td>\n",
       "      <td>   63.444000</td>\n",
       "    </tr>\n",
       "  </tbody>\n",
       "</table>\n",
       "</div>"
      ],
      "text/plain": [
       "              dist           dx           dy       goal  shot            x            y\n",
       "count  2273.000000  2271.000000  2271.000000       2273  2273  2273.000000  2273.000000\n",
       "mean     18.387649     0.124696     0.842978  0.1451826     1    51.402604    33.157404\n",
       "std       8.120749    17.499210     9.879692  0.3523623     0    38.015387     9.182643\n",
       "min       0.000000   -47.145000   -42.160000      False  True     0.000000     2.856000\n",
       "25%      11.872038   -13.387500    -6.154000      False  True    13.020000    26.384000\n",
       "50%      17.511139    -2.205000     0.680000          0     1    33.075000    33.320000\n",
       "75%      24.382473    14.280000     8.092000      False  True    90.300000    40.324000\n",
       "max      54.922115    54.915000    34.204000       True  True   105.000000    63.444000"
      ]
     },
     "execution_count": 2,
     "metadata": {},
     "output_type": "execute_result"
    }
   ],
   "source": [
    "dfShots.describe()"
   ]
  },
  {
   "cell_type": "code",
   "execution_count": 3,
   "metadata": {
    "collapsed": false
   },
   "outputs": [
    {
     "data": {
      "text/plain": [
       "<matplotlib.collections.PathCollection at 0xacceba8>"
      ]
     },
     "execution_count": 3,
     "metadata": {},
     "output_type": "execute_result"
    },
    {
     "data": {
      "image/png": "[encoded data removed]",
      "text/plain": [
       "<matplotlib.figure.Figure at 0x5f3a710>"
      ]
     },
     "metadata": {},
     "output_type": "display_data"
    }
   ],
   "source": [
    "plt.scatter(dfShots.dist, dfShots.goal, alpha=0.01)"
   ]
  },
  {
   "cell_type": "markdown",
   "metadata": {},
   "source": [
    "上面这样的散点图，不足以得到距离和进球状况的关系，尤其是因为，大家其实知道，进不进去是一个2元的变量(0或者1)<br>\n",
    "那咋办呢，为了更好地展示结果，咱们把相同距离的射门状况统计一下，然后算一个概率(平均状况)吧。"
   ]
  },
  {
   "cell_type": "code",
   "execution_count": 4,
   "metadata": {
    "collapsed": false
   },
   "outputs": [
    {
     "data": {
      "text/plain": [
       "<matplotlib.text.Text at 0xacf3748>"
      ]
     },
     "execution_count": 4,
     "metadata": {},
     "output_type": "execute_result"
    },
    {
     "data": {
      "image/png": "[encoded data removed]",
      "text/plain": [
       "<matplotlib.figure.Figure at 0xae0fa20>"
      ]
     },
     "metadata": {},
     "output_type": "display_data"
    }
   ],
   "source": [
    "bins = np.linspace(dfShots.dist.min(), dfShots.dist.max(), 20)\n",
    "groups = dfShots.groupby(np.digitize(dfShots.dist, bins))\n",
    "\n",
    "chart = groups[['dist','goal']].mean()\n",
    "\n",
    "plt.plot(chart.dist, chart.goal, 'bo-')\n",
    "plt.ylim(0,1)\n",
    "plt.ylabel('probability')\n",
    "plt.xlabel('distance (m)')"
   ]
  },
  {
   "cell_type": "markdown",
   "metadata": {},
   "source": [
    "很有意思的是我们会发现，开始的部分，随着离门的距离越来越远，进球概率会下降，符合预期。但是后面有很神奇的一段，35m到45m之间，是一个增长的状态。\n",
    "\n",
    "有点意思。来研究一下。"
   ]
  },
  {
   "cell_type": "code",
   "execution_count": 5,
   "metadata": {
    "collapsed": false
   },
   "outputs": [
    {
     "data": {
      "text/html": [
       "<div style=\"max-height:1000px;max-width:1500px;overflow:auto;\">\n",
       "<table border=\"1\" class=\"dataframe\">\n",
       "  <thead>\n",
       "    <tr style=\"text-align: right;\">\n",
       "      <th></th>\n",
       "      <th>dist</th>\n",
       "      <th>dx</th>\n",
       "      <th>dy</th>\n",
       "      <th>event_id</th>\n",
       "      <th>goal</th>\n",
       "      <th>play_id</th>\n",
       "      <th>player</th>\n",
       "      <th>shot</th>\n",
       "      <th>team</th>\n",
       "      <th>x</th>\n",
       "      <th>y</th>\n",
       "    </tr>\n",
       "  </thead>\n",
       "  <tbody>\n",
       "    <tr>\n",
       "      <th>499 </th>\n",
       "      <td> 40.115236</td>\n",
       "      <td>-37.590</td>\n",
       "      <td>-14.008</td>\n",
       "      <td> 3687319d-c4a1-4724-992f-48307e801454</td>\n",
       "      <td> False</td>\n",
       "      <td> c13c694c-cc1b-451d-9464-099c20b3d553</td>\n",
       "      <td>         Marco Reus</td>\n",
       "      <td> True</td>\n",
       "      <td>         Dortmund</td>\n",
       "      <td> 37.590</td>\n",
       "      <td> 50.796</td>\n",
       "    </tr>\n",
       "    <tr>\n",
       "      <th>648 </th>\n",
       "      <td> 45.980092</td>\n",
       "      <td> 34.440</td>\n",
       "      <td>-30.464</td>\n",
       "      <td> 54ffa7b6-3b48-4977-a0b1-32eb652467d0</td>\n",
       "      <td>  True</td>\n",
       "      <td> c0e7998a-4b29-41fc-833f-f44267a8ebe1</td>\n",
       "      <td> Aleksandar Kolarov</td>\n",
       "      <td> True</td>\n",
       "      <td>        Man. City</td>\n",
       "      <td> 70.560</td>\n",
       "      <td> 61.064</td>\n",
       "    </tr>\n",
       "    <tr>\n",
       "      <th>710 </th>\n",
       "      <td> 46.603368</td>\n",
       "      <td> 44.835</td>\n",
       "      <td> 12.716</td>\n",
       "      <td> 12162818-0fc0-4322-8438-86b20bdba953</td>\n",
       "      <td> False</td>\n",
       "      <td> 5e6ed4bb-e729-44f4-a42e-5420993e5d88</td>\n",
       "      <td> Yaroslav Rakitskiy</td>\n",
       "      <td> True</td>\n",
       "      <td> Shakhtar Donetsk</td>\n",
       "      <td> 60.165</td>\n",
       "      <td> 25.704</td>\n",
       "    </tr>\n",
       "    <tr>\n",
       "      <th>1058</th>\n",
       "      <td> 48.384144</td>\n",
       "      <td>-47.145</td>\n",
       "      <td>-10.880</td>\n",
       "      <td> a1189bf9-9f19-457c-8dab-1c5309e00ed0</td>\n",
       "      <td> False</td>\n",
       "      <td> ad37626f-bd1e-411e-8a1c-0e68d24776b4</td>\n",
       "      <td>       Kris Commons</td>\n",
       "      <td> True</td>\n",
       "      <td>           Celtic</td>\n",
       "      <td> 47.145</td>\n",
       "      <td> 44.948</td>\n",
       "    </tr>\n",
       "    <tr>\n",
       "      <th>3073</th>\n",
       "      <td> 54.922115</td>\n",
       "      <td> 54.915</td>\n",
       "      <td> -0.884</td>\n",
       "      <td> 70ab8f99-3fe5-4c08-9f0c-0ef4aa5ec9e2</td>\n",
       "      <td> False</td>\n",
       "      <td> 4fff0d62-c221-4235-b7cd-e5b6ef19c6d0</td>\n",
       "      <td>       Luís Alberto</td>\n",
       "      <td> True</td>\n",
       "      <td>         CFR Cluj</td>\n",
       "      <td> 50.085</td>\n",
       "      <td> 39.236</td>\n",
       "    </tr>\n",
       "    <tr>\n",
       "      <th>5003</th>\n",
       "      <td> 40.794737</td>\n",
       "      <td>-39.795</td>\n",
       "      <td>  8.976</td>\n",
       "      <td> 518a3a8f-7644-4544-9f6c-e785d5979384</td>\n",
       "      <td>  True</td>\n",
       "      <td> 0e4cd067-0b81-4ae5-8b71-e2c325ea895f</td>\n",
       "      <td>              Oscar</td>\n",
       "      <td> True</td>\n",
       "      <td>          Chelsea</td>\n",
       "      <td> 39.795</td>\n",
       "      <td> 28.152</td>\n",
       "    </tr>\n",
       "    <tr>\n",
       "      <th>5120</th>\n",
       "      <td> 43.293600</td>\n",
       "      <td> 36.120</td>\n",
       "      <td> 23.868</td>\n",
       "      <td> c81ab84d-9012-4455-9e72-73f32fc367b4</td>\n",
       "      <td> False</td>\n",
       "      <td> d911c680-f5cf-4ce4-85e8-a625fb482660</td>\n",
       "      <td>      Renan Bressan</td>\n",
       "      <td> True</td>\n",
       "      <td>             BATE</td>\n",
       "      <td> 68.880</td>\n",
       "      <td>  9.860</td>\n",
       "    </tr>\n",
       "    <tr>\n",
       "      <th>6187</th>\n",
       "      <td> 50.630296</td>\n",
       "      <td> 28.035</td>\n",
       "      <td>-42.160</td>\n",
       "      <td> 029ce092-2de2-418b-ba55-efddf6031b32</td>\n",
       "      <td> False</td>\n",
       "      <td> ddebe83c-a603-4e67-8f91-1610d36d7bef</td>\n",
       "      <td>      Douglas Costa</td>\n",
       "      <td> True</td>\n",
       "      <td> Shakhtar Donetsk</td>\n",
       "      <td> 76.965</td>\n",
       "      <td> 49.640</td>\n",
       "    </tr>\n",
       "    <tr>\n",
       "      <th>6884</th>\n",
       "      <td> 40.664864</td>\n",
       "      <td>-34.650</td>\n",
       "      <td>-21.284</td>\n",
       "      <td> 8c78b5ea-80f1-47c7-857f-7465b641d4c8</td>\n",
       "      <td> False</td>\n",
       "      <td> 412a8ca1-e014-4218-8a4f-dfcb455d96cb</td>\n",
       "      <td>      Marco Estrada</td>\n",
       "      <td> True</td>\n",
       "      <td>      Montpellier</td>\n",
       "      <td> 34.650</td>\n",
       "      <td> 50.932</td>\n",
       "    </tr>\n",
       "    <tr>\n",
       "      <th>7230</th>\n",
       "      <td> 41.844881</td>\n",
       "      <td> 34.650</td>\n",
       "      <td> 23.460</td>\n",
       "      <td> 5afb8868-c477-44d1-8c5e-c979316604e5</td>\n",
       "      <td> False</td>\n",
       "      <td> 5b82592c-712b-404a-9a10-9279ab3d7985</td>\n",
       "      <td>      Marco Estrada</td>\n",
       "      <td> True</td>\n",
       "      <td>      Montpellier</td>\n",
       "      <td> 70.350</td>\n",
       "      <td> 15.844</td>\n",
       "    </tr>\n",
       "    <tr>\n",
       "      <th>7478</th>\n",
       "      <td> 41.040176</td>\n",
       "      <td> 22.680</td>\n",
       "      <td> 34.204</td>\n",
       "      <td> b53b142e-8d18-468a-a0d2-96b57e22b70b</td>\n",
       "      <td> False</td>\n",
       "      <td> e09a2304-6d12-443f-bde1-1253bdda9c55</td>\n",
       "      <td>         Marco Reus</td>\n",
       "      <td> True</td>\n",
       "      <td>         Dortmund</td>\n",
       "      <td> 82.320</td>\n",
       "      <td>  2.856</td>\n",
       "    </tr>\n",
       "    <tr>\n",
       "      <th>8343</th>\n",
       "      <td> 47.573214</td>\n",
       "      <td> 47.565</td>\n",
       "      <td> -0.884</td>\n",
       "      <td> 22ab1483-735a-4b28-a80f-01d8c079ce1d</td>\n",
       "      <td> False</td>\n",
       "      <td> f6af7187-7367-4731-8c48-9e378f40e8f5</td>\n",
       "      <td>       Luís Alberto</td>\n",
       "      <td> True</td>\n",
       "      <td>         CFR Cluj</td>\n",
       "      <td> 57.435</td>\n",
       "      <td> 30.124</td>\n",
       "    </tr>\n",
       "    <tr>\n",
       "      <th>9337</th>\n",
       "      <td> 44.005908</td>\n",
       "      <td> 37.485</td>\n",
       "      <td> 23.052</td>\n",
       "      <td> 4f5e648c-45be-4cb5-abf1-eec40c2a9df4</td>\n",
       "      <td> False</td>\n",
       "      <td> 6e828e65-e7b4-41c2-bf30-1a9e86a8c3d5</td>\n",
       "      <td>      Franck Ribéry</td>\n",
       "      <td> True</td>\n",
       "      <td>           Bayern</td>\n",
       "      <td> 67.515</td>\n",
       "      <td> 15.572</td>\n",
       "    </tr>\n",
       "    <tr>\n",
       "      <th>9717</th>\n",
       "      <td> 41.683173</td>\n",
       "      <td> 41.370</td>\n",
       "      <td>  5.100</td>\n",
       "      <td> 74562657-1088-4f48-9685-11f07add45d2</td>\n",
       "      <td> False</td>\n",
       "      <td> 9203f147-0d5e-4aba-aa77-c7ed6b56f10e</td>\n",
       "      <td>     Andrés Iniesta</td>\n",
       "      <td> True</td>\n",
       "      <td>        Barcelona</td>\n",
       "      <td> 63.630</td>\n",
       "      <td> 25.296</td>\n",
       "    </tr>\n",
       "  </tbody>\n",
       "</table>\n",
       "</div>"
      ],
      "text/plain": [
       "           dist      dx      dy                              event_id   goal  \\\n",
       "499   40.115236 -37.590 -14.008  3687319d-c4a1-4724-992f-48307e801454  False   \n",
       "648   45.980092  34.440 -30.464  54ffa7b6-3b48-4977-a0b1-32eb652467d0   True   \n",
       "710   46.603368  44.835  12.716  12162818-0fc0-4322-8438-86b20bdba953  False   \n",
       "1058  48.384144 -47.145 -10.880  a1189bf9-9f19-457c-8dab-1c5309e00ed0  False   \n",
       "3073  54.922115  54.915  -0.884  70ab8f99-3fe5-4c08-9f0c-0ef4aa5ec9e2  False   \n",
       "5003  40.794737 -39.795   8.976  518a3a8f-7644-4544-9f6c-e785d5979384   True   \n",
       "5120  43.293600  36.120  23.868  c81ab84d-9012-4455-9e72-73f32fc367b4  False   \n",
       "6187  50.630296  28.035 -42.160  029ce092-2de2-418b-ba55-efddf6031b32  False   \n",
       "6884  40.664864 -34.650 -21.284  8c78b5ea-80f1-47c7-857f-7465b641d4c8  False   \n",
       "7230  41.844881  34.650  23.460  5afb8868-c477-44d1-8c5e-c979316604e5  False   \n",
       "7478  41.040176  22.680  34.204  b53b142e-8d18-468a-a0d2-96b57e22b70b  False   \n",
       "8343  47.573214  47.565  -0.884  22ab1483-735a-4b28-a80f-01d8c079ce1d  False   \n",
       "9337  44.005908  37.485  23.052  4f5e648c-45be-4cb5-abf1-eec40c2a9df4  False   \n",
       "9717  41.683173  41.370   5.100  74562657-1088-4f48-9685-11f07add45d2  False   \n",
       "\n",
       "                                   play_id              player  shot  \\\n",
       "499   c13c694c-cc1b-451d-9464-099c20b3d553          Marco Reus  True   \n",
       "648   c0e7998a-4b29-41fc-833f-f44267a8ebe1  Aleksandar Kolarov  True   \n",
       "710   5e6ed4bb-e729-44f4-a42e-5420993e5d88  Yaroslav Rakitskiy  True   \n",
       "1058  ad37626f-bd1e-411e-8a1c-0e68d24776b4        Kris Commons  True   \n",
       "3073  4fff0d62-c221-4235-b7cd-e5b6ef19c6d0        Luís Alberto  True   \n",
       "5003  0e4cd067-0b81-4ae5-8b71-e2c325ea895f               Oscar  True   \n",
       "5120  d911c680-f5cf-4ce4-85e8-a625fb482660       Renan Bressan  True   \n",
       "6187  ddebe83c-a603-4e67-8f91-1610d36d7bef       Douglas Costa  True   \n",
       "6884  412a8ca1-e014-4218-8a4f-dfcb455d96cb       Marco Estrada  True   \n",
       "7230  5b82592c-712b-404a-9a10-9279ab3d7985       Marco Estrada  True   \n",
       "7478  e09a2304-6d12-443f-bde1-1253bdda9c55          Marco Reus  True   \n",
       "8343  f6af7187-7367-4731-8c48-9e378f40e8f5        Luís Alberto  True   \n",
       "9337  6e828e65-e7b4-41c2-bf30-1a9e86a8c3d5       Franck Ribéry  True   \n",
       "9717  9203f147-0d5e-4aba-aa77-c7ed6b56f10e      Andrés Iniesta  True   \n",
       "\n",
       "                  team       x       y  \n",
       "499           Dortmund  37.590  50.796  \n",
       "648          Man. City  70.560  61.064  \n",
       "710   Shakhtar Donetsk  60.165  25.704  \n",
       "1058            Celtic  47.145  44.948  \n",
       "3073          CFR Cluj  50.085  39.236  \n",
       "5003           Chelsea  39.795  28.152  \n",
       "5120              BATE  68.880   9.860  \n",
       "6187  Shakhtar Donetsk  76.965  49.640  \n",
       "6884       Montpellier  34.650  50.932  \n",
       "7230       Montpellier  70.350  15.844  \n",
       "7478          Dortmund  82.320   2.856  \n",
       "8343          CFR Cluj  57.435  30.124  \n",
       "9337            Bayern  67.515  15.572  \n",
       "9717         Barcelona  63.630  25.296  "
      ]
     },
     "execution_count": 5,
     "metadata": {},
     "output_type": "execute_result"
    }
   ],
   "source": [
    "dfShots[dfShots.dist > 40]"
   ]
  },
  {
   "cell_type": "markdown",
   "metadata": {},
   "source": [
    "结果我们可以看到，只有不到20粒射门是在40米之外的，同时只有2次射门是进了的。不过大胆猜测一下，这2次进球可能也不代表这个距离的通常状况，而只是说运气来了，就进了。因为基数比较小，所以这个比例就没有那么准了，你甚至会发现46米外的射门有一半都命中了，不过总共2次射门，进一次好像也说明不了什么。\n",
    "\n",
    "下面还有一段YouTube的视频，大陆地区可以翻墙的同学可以看一眼，确实是个运气球。"
   ]
  },
  {
   "cell_type": "code",
   "execution_count": 6,
   "metadata": {
    "collapsed": false
   },
   "outputs": [
    {
     "data": {
      "text/html": [
       "\n",
       "        <iframe\n",
       "            width=\"400\"\n",
       "            height=300\"\n",
       "            src=\"http://www.youtube.com/embed/HhJ84p9KLKY\"\n",
       "            frameborder=\"0\"\n",
       "            allowfullscreen\n",
       "        ></iframe>\n",
       "        "
      ],
      "text/plain": [
       "<IPython.lib.display.YouTubeVideo at 0x5f3a1d0>"
      ]
     },
     "execution_count": 6,
     "metadata": {},
     "output_type": "execute_result"
    }
   ],
   "source": [
    "from IPython.display import YouTubeVideo\n",
    "YouTubeVideo('HhJ84p9KLKY')"
   ]
  },
  {
   "cell_type": "markdown",
   "metadata": {},
   "source": [
    "## 统计建模\n",
    "\n",
    "我们首先想想，我们现在需要一个这样的模型：\n",
    "\n",
    "* 输出的结果，是在射门的情况下，进球的概率\n",
    "\n",
    "* 独立变量距离是一个连续值\n",
    "\n",
    "希望大家对逻辑斯蒂回归有一定的了解: \n",
    "\n",
    "![Logistic curve](http://upload.wikimedia.org/wikipedia/commons/thumb/8/88/Logistic-curve.svg/320px-Logistic-curve.svg.png)\n",
    "\n",
    "我知道很多同学知道scikit-learn，不过这里我们打算用一个新的统计Python库来完成这个小任务: [Statsmodels](http://statsmodels.sourceforge.net/)。<br>\n",
    "OK，动手吧"
   ]
  },
  {
   "cell_type": "code",
   "execution_count": 7,
   "metadata": {
    "collapsed": false
   },
   "outputs": [
    {
     "name": "stdout",
     "output_type": "stream",
     "text": [
      "Optimization terminated successfully.\n",
      "         Current function value: 0.371002\n",
      "         Iterations 7\n"
     ]
    }
   ],
   "source": [
    "import statsmodels.api as sm\n",
    "\n",
    "# 很尴尬的是，可能需要手动加个偏移项(截距)\n",
    "dfShots['intercept']=1.0\n",
    "\n",
    "# 输入与输出 \n",
    "ind_cols=['dist','intercept']\n",
    "dep_cols=['goal']\n",
    "\n",
    "#训练模型\n",
    "logit = sm.Logit(dfShots[dep_cols], dfShots[ind_cols])\n",
    "result=logit.fit()"
   ]
  },
  {
   "cell_type": "code",
   "execution_count": 8,
   "metadata": {
    "collapsed": false
   },
   "outputs": [
    {
     "name": "stdout",
     "output_type": "stream",
     "text": [
      "dist        -0.122124\n",
      "intercept    0.165303\n",
      "dtype: float64\n"
     ]
    }
   ],
   "source": [
    "# 现在就能拿到对应的拟合系数\n",
    "coeff = result.params\n",
    "print coeff"
   ]
  },
  {
   "cell_type": "markdown",
   "metadata": {},
   "source": [
    "有系数以后，预测进球的概率，实际上就是代入到sigmoid函数求值:\n",
    "\n",
    "![logitic formula](http://upload.wikimedia.org/math/8/a/9/8a9c21e683de89ddb61f15262ee9fd3a.png)\n",
    "\n",
    "这里, β0 是偏移项系数， β1是距离的系数。"
   ]
  },
  {
   "cell_type": "code",
   "execution_count": 9,
   "metadata": {
    "collapsed": false
   },
   "outputs": [
    {
     "data": {
      "text/html": [
       "<div style=\"max-height:1000px;max-width:1500px;overflow:auto;\">\n",
       "<table border=\"1\" class=\"dataframe\">\n",
       "  <thead>\n",
       "    <tr style=\"text-align: right;\">\n",
       "      <th></th>\n",
       "      <th>dist</th>\n",
       "      <th>prob</th>\n",
       "    </tr>\n",
       "  </thead>\n",
       "  <tbody>\n",
       "    <tr>\n",
       "      <th>0</th>\n",
       "      <td> 1</td>\n",
       "      <td> 0.510793</td>\n",
       "    </tr>\n",
       "    <tr>\n",
       "      <th>1</th>\n",
       "      <td> 2</td>\n",
       "      <td> 0.480274</td>\n",
       "    </tr>\n",
       "    <tr>\n",
       "      <th>2</th>\n",
       "      <td> 3</td>\n",
       "      <td> 0.449902</td>\n",
       "    </tr>\n",
       "    <tr>\n",
       "      <th>3</th>\n",
       "      <td> 4</td>\n",
       "      <td> 0.419898</td>\n",
       "    </tr>\n",
       "    <tr>\n",
       "      <th>4</th>\n",
       "      <td> 5</td>\n",
       "      <td> 0.390475</td>\n",
       "    </tr>\n",
       "  </tbody>\n",
       "</table>\n",
       "</div>"
      ],
      "text/plain": [
       "   dist      prob\n",
       "0     1  0.510793\n",
       "1     2  0.480274\n",
       "2     3  0.449902\n",
       "3     4  0.419898\n",
       "4     5  0.390475"
      ]
     },
     "execution_count": 9,
     "metadata": {},
     "output_type": "execute_result"
    }
   ],
   "source": [
    "def prob(dist,coeff):\n",
    "  z = coeff[0]*dist + coeff[1]\n",
    "  return 1/(1+np.exp(-1*z))\n",
    "\n",
    "lf = pd.DataFrame(range(1,60), columns=[\"dist\"])\n",
    "lf['prob']=prob(lf['dist'], coeff)\n",
    "\n",
    "lf.head()"
   ]
  },
  {
   "cell_type": "markdown",
   "metadata": {},
   "source": [
    "然后对比一下预测结果和之前我们绘出的概率散点图。"
   ]
  },
  {
   "cell_type": "code",
   "execution_count": 10,
   "metadata": {
    "collapsed": false
   },
   "outputs": [
    {
     "data": {
      "text/plain": [
       "<matplotlib.legend.Legend at 0x14944cf8>"
      ]
     },
     "execution_count": 10,
     "metadata": {},
     "output_type": "execute_result"
    },
    {
     "data": {
      "image/png": "[encoded data removed]",
      "text/plain": [
       "<matplotlib.figure.Figure at 0x14921710>"
      ]
     },
     "metadata": {},
     "output_type": "display_data"
    }
   ],
   "source": [
    "plt.scatter(chart.dist, chart.goal, label=\"frequency\")\n",
    "plt.plot(lf['dist'],lf['prob'], label=\"regression\")\n",
    "plt.xlim(0, 60)\n",
    "plt.xlabel(\"Distance (m)\")\n",
    "plt.ylim(0, 0.8)\n",
    "plt.ylabel(\"Probability\")\n",
    "plt.legend()"
   ]
  },
  {
   "cell_type": "markdown",
   "metadata": {},
   "source": [
    "出去找工作的时候，大家都喜欢看到一些炫酷的，有冲击力的，与众不同的东西。可视化当然能起到非常大的作用，比如直接把进球分布绘制到一张图上，射门点和是否进球一目了然，如下："
   ]
  },
  {
   "cell_type": "code",
   "execution_count": 11,
   "metadata": {
    "collapsed": false
   },
   "outputs": [
    {
     "data": {
      "image/png": "[encoded data removed]",
      "text/plain": [
       "<matplotlib.figure.Figure at 0x149319e8>"
      ]
     },
     "metadata": {},
     "output_type": "display_data"
    }
   ],
   "source": [
    "x_size = 105.0\n",
    "y_size = 68.0\n",
    "\n",
    "#set up field    \n",
    "fig = plt.figure()\n",
    "fig.patch.set_facecolor('green')\n",
    "\n",
    "axes = fig.add_subplot(1, 1, 1, axisbg='green')\n",
    "\n",
    "axes.xaxis.set_visible(False)\n",
    "axes.yaxis.set_visible(False)\n",
    "\n",
    "plt.xlim([0,x_size])\n",
    "plt.ylim([0,y_size])\n",
    "\n",
    "#draw shots\n",
    "for i, row in enumerate(dfShots.values):\n",
    "    size = 1.0\n",
    "    if row[4]:\n",
    "        color = 'red'\n",
    "        alpha = 0.4\n",
    "    else:\n",
    "        color = 'white'\n",
    "        alpha = 0.1\n",
    "       \n",
    "    \n",
    "    plt.arrow(row[9],row[10],row[1],row[2],fc=color, ec=color, head_width=size, head_length=size, alpha=alpha)\n",
    "    \n",
    "plt.show()"
   ]
  }
 ],
 "metadata": {
  "kernelspec": {
   "display_name": "Python 2",
   "language": "python",
   "name": "python2"
  },
  "language_info": {
   "codemirror_mode": {
    "name": "ipython",
    "version": 2
   },
   "file_extension": ".py",
   "mimetype": "text/x-python",
   "name": "python",
   "nbconvert_exporter": "python",
   "pygments_lexer": "ipython2",
   "version": "2.7.10"
  }
 },
 "nbformat": 4,
 "nbformat_minor": 0
}
